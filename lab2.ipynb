{
 "cells": [
  {
   "cell_type": "code",
   "execution_count": null,
   "metadata": {},
   "outputs": [],
   "source": [
    "x = int(input(\"Введите четырёхзначное число:\"))\n",
    "first = x // 1000\n",
    "second = x // 100 - (x // 1000 * 10)\n",
    "third = (x % 100 - x % 10) / 10\n",
    "last = x % 10\n",
    "if first + last == second - third:\n",
    "    print('ДА')\n",
    "else:\n",
    "    print('НЕТ')"
   ]
  },
  {
   "cell_type": "code",
   "execution_count": 5,
   "metadata": {},
   "outputs": [
    {
     "name": "stdout",
     "output_type": "stream",
     "text": [
      "0\n"
     ]
    }
   ],
   "source": [
    "x1 = int(input(\"Введите первое число:\"))\n",
    "x2 = int(input(\"Введите второе число:\"))\n",
    "x3 = int(input(\"Введите третье число:\"))\n",
    "if (x1 <0):\n",
    "    print(0)\n",
    "    if (x2<0):\n",
    "        print(0)\n",
    "        if (x3<0):\n",
    "            print(0)\n",
    "else:\n",
    "    x1 + x2 + x3\n",
    "    print(x1 + x2 + x3)"
   ]
  },
  {
   "cell_type": "code",
   "execution_count": 8,
   "metadata": {},
   "outputs": [
    {
     "name": "stdout",
     "output_type": "stream",
     "text": [
      "Высокосный год.\n"
     ]
    }
   ],
   "source": [
    "x = int(input(\"Введите год:\"))\n",
    "if (x%4==0):\n",
    "    if(x%100!=0):\n",
    "        print(\"Высокосный год.\")\n",
    "elif(x%400==0):\n",
    "            print(\"Высокосный год.\")\n",
    "else:\n",
    "    print(\"Год не является высокосным.\")\n"
   ]
  },
  {
   "cell_type": "code",
   "execution_count": 9,
   "metadata": {},
   "outputs": [
    {
     "name": "stdout",
     "output_type": "stream",
     "text": [
      "NO\n",
      "YES\n"
     ]
    }
   ],
   "source": [
    "x = int(input(\"Введите число:\"))\n",
    "if (x%2!=0):\n",
    "    print(\"YES\");\n",
    "if(x==2,4):\n",
    "    print(\"NO\");\n",
    "if(x==6,8,10,12,14,16,18,20):\n",
    "    print(\"YES\");\n",
    "if(x>20):\n",
    "    if(x%2==0):\n",
    "        print(\"NO\")\n"
   ]
  },
  {
   "cell_type": "code",
   "execution_count": 14,
   "metadata": {},
   "outputs": [
    {
     "name": "stdout",
     "output_type": "stream",
     "text": [
      "10\n"
     ]
    }
   ],
   "source": [
    "a, b = int(input(\"Введите первое число:\")), int(input(\"Введите второе число:\"))\n",
    "s = input()\n",
    "if (s == '+'):\n",
    "    print(a + b)\n",
    "elif (s == '-'):\n",
    "    print(a - b)\n",
    "elif (s == '*'):\n",
    "    print(a * b)\n",
    "elif (s == '/'):\n",
    "    if (b == 0):\n",
    "        print('На ноль делить нельзя!P.S. На самом деле, можно, но лучше так не делать)')\n",
    "    else:\n",
    "        print(a / b)\n",
    "else:\n",
    "    print('Неверная операция')"
   ]
  }
 ],
 "metadata": {
  "kernelspec": {
   "display_name": "Python 3",
   "language": "python",
   "name": "python3"
  },
  "language_info": {
   "codemirror_mode": {
    "name": "ipython",
    "version": 3
   },
   "file_extension": ".py",
   "mimetype": "text/x-python",
   "name": "python",
   "nbconvert_exporter": "python",
   "pygments_lexer": "ipython3",
   "version": "3.10.10"
  },
  "orig_nbformat": 4,
  "vscode": {
   "interpreter": {
    "hash": "70a8a37ba921b1d55fec2d14b87f39ce39cf6f53a90312f7435a3f509202697f"
   }
  }
 },
 "nbformat": 4,
 "nbformat_minor": 2
}
