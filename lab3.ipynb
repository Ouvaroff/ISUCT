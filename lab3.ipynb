{
 "cells": [
  {
   "cell_type": "code",
   "execution_count": null,
   "metadata": {},
   "outputs": [],
   "source": [
    "a, b, c, d, e = int(input()), int(input()), int(input()), int(input()), int(input())\n",
    "\n",
    "print('Наименьшее число =', min(a, b, c, d, e))\n",
    "print('Наибольшее число =', max(a, b, c, d, e))"
   ]
  },
  {
   "cell_type": "code",
   "execution_count": 1,
   "metadata": {},
   "outputs": [
    {
     "name": "stdout",
     "output_type": "stream",
     "text": [
      "18.0\n"
     ]
    }
   ],
   "source": [
    "print(sum((abs(float(input())) for i in range(5))))"
   ]
  },
  {
   "cell_type": "code",
   "execution_count": null,
   "metadata": {},
   "outputs": [],
   "source": [
    "a = input()\n",
    "print(\"Ваша фамилия \" + a + \" имеет длину \" + str(len(a)))"
   ]
  },
  {
   "cell_type": "code",
   "execution_count": null,
   "metadata": {},
   "outputs": [],
   "source": [
    "s = input()\n",
    "ind = s.find('@')\n",
    "print('NO' if ind == -1 or s[ind+1:].find('.') == -1 else 'YES')"
   ]
  },
  {
   "cell_type": "code",
   "execution_count": 2,
   "metadata": {},
   "outputs": [
    {
     "name": "stdout",
     "output_type": "stream",
     "text": [
      "78.53981633974483\n",
      "31.41592653589793\n"
     ]
    }
   ],
   "source": [
    "import math\n",
    "x = int(input(\"Значение:\"))\n",
    "s = math.pi*x**2\n",
    "c = 2*math.pi*x\n",
    "print(s)\n",
    "print(c)"
   ]
  },
  {
   "cell_type": "code",
   "execution_count": null,
   "metadata": {},
   "outputs": [],
   "source": [
    "import math\n",
    "a, b  = float(input()), float(input())\n",
    "sab, pab = a + b, a * b\n",
    "print(sab / 2)\n",
    "print(math.sqrt(pab)) \n",
    "print(2 * pab / sab)\n",
    "print(math.sqrt((a**2 + b**2) / 2))"
   ]
  },
  {
   "cell_type": "code",
   "execution_count": 3,
   "metadata": {},
   "outputs": [
    {
     "name": "stdout",
     "output_type": "stream",
     "text": [
      "-2.0\n",
      "-1.5\n"
     ]
    }
   ],
   "source": [
    "from math import *\n",
    "a, b, c = float(input()), float(input()), float(input())\n",
    "d = (b**2) - (4*a*c)\n",
    "if d > 0:\n",
    "    x1 = (((-b) - sqrt(d)) / (2*a))\n",
    "    x2 = (((-b) + sqrt(d)) / (2*a))\n",
    "    print(min(x1, x2))\n",
    "    print(max(x1, x2))\n",
    "elif d == 0:\n",
    "    print(-(b / (2*a)))\n",
    "else:\n",
    "    print('Нет корней') "
   ]
  },
  {
   "cell_type": "code",
   "execution_count": null,
   "metadata": {},
   "outputs": [],
   "source": [
    "m, p, n = int(input()), int(input()), int(input())\n",
    "for i in range(1, n + 1):\n",
    "    print(i, float(m))\n",
    "    m += m * (p / 100)"
   ]
  },
  {
   "cell_type": "code",
   "execution_count": null,
   "metadata": {},
   "outputs": [],
   "source": [
    "m = int(input())\n",
    "n = int(input())\n",
    "\n",
    "start = ((m - 1) // 2) * 2 + 1\n",
    "\n",
    "for i in range(start, n - 1, -2):\n",
    "    print(i)"
   ]
  },
  {
   "cell_type": "code",
   "execution_count": null,
   "metadata": {},
   "outputs": [],
   "source": [
    "n = 100\n",
    "f1 = 1\n",
    "f2 = 1\n",
    "for i in range (1, n):\n",
    "    f3 = f1 +f2\n",
    "    f1 = f2\n",
    "    f2 = f3\n",
    "    print(f3)"
   ]
  },
  {
   "cell_type": "code",
   "execution_count": null,
   "metadata": {},
   "outputs": [],
   "source": [
    "n = int(input())\n",
    "centr = n // 2 + 1\n",
    "count = 0\n",
    "for i in range(1, n + 1):\n",
    "    if i > centr:           \n",
    "        count -= 1\n",
    "    else:\n",
    "        count += 1\n",
    "    \n",
    "    for _ in range(count):\n",
    "        print('*', end='')\n",
    "    print()"
   ]
  }
 ],
 "metadata": {
  "kernelspec": {
   "display_name": "Python 3",
   "language": "python",
   "name": "python3"
  },
  "language_info": {
   "codemirror_mode": {
    "name": "ipython",
    "version": 3
   },
   "file_extension": ".py",
   "mimetype": "text/x-python",
   "name": "python",
   "nbconvert_exporter": "python",
   "pygments_lexer": "ipython3",
   "version": "3.10.10"
  },
  "orig_nbformat": 4,
  "vscode": {
   "interpreter": {
    "hash": "70a8a37ba921b1d55fec2d14b87f39ce39cf6f53a90312f7435a3f509202697f"
   }
  }
 },
 "nbformat": 4,
 "nbformat_minor": 2
}
