{
 "cells": [
  {
   "cell_type": "code",
   "execution_count": null,
   "metadata": {},
   "outputs": [],
   "source": [
    "a = input()\n",
    "s = 0\n",
    "\n",
    "for i in a:\n",
    "    s += int(i)\n",
    "print(s)"
   ]
  },
  {
   "cell_type": "code",
   "execution_count": null,
   "metadata": {},
   "outputs": [],
   "source": [
    "text = input()\n",
    "a = text[:len(text) // 2 + len(text) % 2]\n",
    "b = text[len(text) // 2 + len(text) % 2:]\n",
    "print(b, a, sep='')"
   ]
  },
  {
   "cell_type": "code",
   "execution_count": null,
   "metadata": {},
   "outputs": [],
   "source": [
    "s = input()\n",
    "s = s.upper()\n",
    "\n",
    "print('Аденин:', s.count('А'))\n",
    "print('Гуанин:', s.count('Г'))\n",
    "print('Цитозин:', s.count('Ц'))\n",
    "print('Тимин:', s.count('Т'))"
   ]
  },
  {
   "cell_type": "code",
   "execution_count": null,
   "metadata": {},
   "outputs": [],
   "source": [
    "l = []\n",
    "for i in range(ord('z') - ord('a') + 1):\n",
    "    l.append(chr(ord('a') + i) * (i + 1))\n",
    "print(l)"
   ]
  },
  {
   "cell_type": "code",
   "execution_count": null,
   "metadata": {},
   "outputs": [],
   "source": [
    "w, n = [input() for i in range(int(input()))], int(input())\n",
    "print(''.join((i[n - 1] for i in w if 1 <= n <= len(i))))"
   ]
  },
  {
   "cell_type": "code",
   "execution_count": null,
   "metadata": {},
   "outputs": [],
   "source": [
    "s = [input() for _ in range(int(input()))]\n",
    "d = [input() for _ in range(int(input()))]\n",
    "for i in s:\n",
    "    for j in d:\n",
    "        if j.lower() not in i.lower():\n",
    "            break\n",
    "    else:\n",
    "        print(i)"
   ]
  },
  {
   "cell_type": "code",
   "execution_count": null,
   "metadata": {},
   "outputs": [],
   "source": [
    "n = input().split()\n",
    "i = 0\n",
    "while i < len(n):\n",
    "  print('+' * int(n[i]))\n",
    "  i += 1"
   ]
  },
  {
   "cell_type": "code",
   "execution_count": null,
   "metadata": {},
   "outputs": [],
   "source": [
    "print(*[int(i) ** 3 for i in input().split()])"
   ]
  }
 ],
 "metadata": {
  "language_info": {
   "name": "python"
  },
  "orig_nbformat": 4
 },
 "nbformat": 4,
 "nbformat_minor": 2
}
