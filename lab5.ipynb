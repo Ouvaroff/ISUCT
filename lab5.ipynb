{
 "cells": [
  {
   "cell_type": "code",
   "execution_count": 1,
   "metadata": {},
   "outputs": [
    {
     "name": "stdout",
     "output_type": "stream",
     "text": [
      "Число должно быть больше!\n",
      "Число должно быть больше!\n",
      "Число должно быть больше!\n",
      "Число должно быть меньше!\n",
      "Число должно быть меньше!\n",
      "Число должно быть меньше!\n",
      "Число должно быть меньше!\n",
      "Вы угадали, это число = 57\n"
     ]
    }
   ],
   "source": [
    "import random\n",
    "NumberToGuess=random.randint(1,100)   \n",
    "userGuess=-1        \n",
    "while userGuess!=NumberToGuess:      \n",
    "    userGuess=int(input(\"Угадай число от 1 до 100\"))      \n",
    "    if userGuess > NumberToGuess:        \n",
    "        print(\"Число должно быть меньше!\")      \n",
    "    elif userGuess < NumberToGuess:         \n",
    "        print(\"Число должно быть больше!\")      \n",
    "    else:         \n",
    "        print(\"Вы угадали, это число = \" + str(NumberToGuess))\n",
    "        break"
   ]
  }
 ],
 "metadata": {
  "kernelspec": {
   "display_name": "Python 3",
   "language": "python",
   "name": "python3"
  },
  "language_info": {
   "codemirror_mode": {
    "name": "ipython",
    "version": 3
   },
   "file_extension": ".py",
   "mimetype": "text/x-python",
   "name": "python",
   "nbconvert_exporter": "python",
   "pygments_lexer": "ipython3",
   "version": "3.10.10"
  },
  "orig_nbformat": 4
 },
 "nbformat": 4,
 "nbformat_minor": 2
}
